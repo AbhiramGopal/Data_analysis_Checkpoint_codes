{
 "cells": [
  {
   "cell_type": "code",
   "execution_count": 1,
   "metadata": {},
   "outputs": [
    {
     "name": "stdout",
     "output_type": "stream",
     "text": [
      "+------+--------+-----------------------------------------------+------+------+-----+-----+------+--------+-------+--------+----+----+-------------------------------+\n",
      "|pclass|survived|name                                           |sex   |age   |sibsp|parch|ticket|fare    |cabin  |embarked|boat|body|home.dest                      |\n",
      "+------+--------+-----------------------------------------------+------+------+-----+-----+------+--------+-------+--------+----+----+-------------------------------+\n",
      "|1     |1       |Allen, Miss. Elisabeth Walton                  |female|29.0  |0    |0    |24160 |211.3375|B5     |S       |2   |null|St Louis, MO                   |\n",
      "|1     |1       |Allison, Master. Hudson Trevor                 |male  |0.9167|1    |2    |113781|151.55  |C22 C26|S       |11  |null|Montreal, PQ / Chesterville, ON|\n",
      "|1     |0       |Allison, Miss. Helen Loraine                   |female|2.0   |1    |2    |113781|151.55  |C22 C26|S       |null|null|Montreal, PQ / Chesterville, ON|\n",
      "|1     |0       |Allison, Mr. Hudson Joshua Creighton           |male  |30.0  |1    |2    |113781|151.55  |C22 C26|S       |null|135 |Montreal, PQ / Chesterville, ON|\n",
      "|1     |0       |Allison, Mrs. Hudson J C (Bessie Waldo Daniels)|female|25.0  |1    |2    |113781|151.55  |C22 C26|S       |null|null|Montreal, PQ / Chesterville, ON|\n",
      "+------+--------+-----------------------------------------------+------+------+-----+-----+------+--------+-------+--------+----+----+-------------------------------+\n",
      "only showing top 5 rows\n",
      "\n"
     ]
    }
   ],
   "source": [
    "from pyspark.sql import SparkSession\n",
    "spark = SparkSession.builder.getOrCreate()\n",
    "df = spark.read.csv('titanic_original.csv',header = True,inferSchema=True)\n",
    "df.show(5,truncate = False)"
   ]
  },
  {
   "cell_type": "code",
   "execution_count": 2,
   "metadata": {},
   "outputs": [
    {
     "name": "stdout",
     "output_type": "stream",
     "text": [
      "Number of Rows = 1310\n",
      "Number of Columns = 14\n"
     ]
    }
   ],
   "source": [
    "def size_shape(df):\n",
    "    print('Number of Rows = %d'%df.count())\n",
    "    print('Number of Columns = %d'%len(df.dtypes))\n",
    "size_shape(df)"
   ]
  },
  {
   "cell_type": "code",
   "execution_count": 3,
   "metadata": {},
   "outputs": [
    {
     "name": "stdout",
     "output_type": "stream",
     "text": [
      "+------+--------+----+---+---+-----+-----+------+----+-----+--------+----+----+---------+\n",
      "|pclass|survived|name|sex|age|sibsp|parch|ticket|fare|cabin|embarked|boat|body|home_dest|\n",
      "+------+--------+----+---+---+-----+-----+------+----+-----+--------+----+----+---------+\n",
      "|     1|       1|   1|  1|264|    1|    1|     1|   2| 1015|       3| 824|1189|      565|\n",
      "+------+--------+----+---+---+-----+-----+------+----+-----+--------+----+----+---------+\n",
      "\n"
     ]
    }
   ],
   "source": [
    "#NA analysis\n",
    "import pyspark.sql.functions as fn\n",
    "\n",
    "\n",
    "df = df.withColumnRenamed('home.dest','home_dest')\n",
    "df.select([fn.count(fn.when(fn.isnan(c)|fn.isnull(c),c)).alias(c) for c in df.columns]).show()"
   ]
  },
  {
   "cell_type": "code",
   "execution_count": 4,
   "metadata": {},
   "outputs": [
    {
     "name": "stdout",
     "output_type": "stream",
     "text": [
      "+------+--------+--------------------+------+------+-----+-----+------+--------+-------+--------+----+----+--------------------+\n",
      "|pclass|survived|                name|   sex|   age|sibsp|parch|ticket|    fare|  cabin|embarked|boat|body|           home_dest|\n",
      "+------+--------+--------------------+------+------+-----+-----+------+--------+-------+--------+----+----+--------------------+\n",
      "|     1|       1|Allen, Miss. Elis...|female|  29.0|    0|    0| 24160|211.3375|     B5|       S|   2|null|        St Louis, MO|\n",
      "|     1|       1|Allison, Master. ...|  male|0.9167|    1|    2|113781|  151.55|C22 C26|       S|  11|null|Montreal, PQ / Ch...|\n",
      "|     1|       0|Allison, Miss. He...|female|   2.0|    1|    2|113781|  151.55|C22 C26|       S|null|null|Montreal, PQ / Ch...|\n",
      "|     1|       0|Allison, Mr. Huds...|  male|  30.0|    1|    2|113781|  151.55|C22 C26|       S|null| 135|Montreal, PQ / Ch...|\n",
      "|     1|       0|Allison, Mrs. Hud...|female|  25.0|    1|    2|113781|  151.55|C22 C26|       S|null|null|Montreal, PQ / Ch...|\n",
      "+------+--------+--------------------+------+------+-----+-----+------+--------+-------+--------+----+----+--------------------+\n",
      "only showing top 5 rows\n",
      "\n"
     ]
    }
   ],
   "source": [
    "df.show(5)"
   ]
  },
  {
   "cell_type": "code",
   "execution_count": 5,
   "metadata": {},
   "outputs": [
    {
     "data": {
      "text/plain": [
       "[('pclass', 'int'),\n",
       " ('survived', 'int'),\n",
       " ('name', 'string'),\n",
       " ('sex', 'string'),\n",
       " ('age', 'double'),\n",
       " ('sibsp', 'int'),\n",
       " ('parch', 'int'),\n",
       " ('ticket', 'string'),\n",
       " ('fare', 'double'),\n",
       " ('cabin', 'string'),\n",
       " ('embarked', 'string'),\n",
       " ('boat', 'string'),\n",
       " ('body', 'int'),\n",
       " ('home_dest', 'string')]"
      ]
     },
     "execution_count": 5,
     "metadata": {},
     "output_type": "execute_result"
    }
   ],
   "source": [
    "df.dtypes"
   ]
  },
  {
   "cell_type": "code",
   "execution_count": 4,
   "metadata": {},
   "outputs": [],
   "source": [
    "#Removing columns Boat,cabin,body due to more number of NAs\n",
    "cols = ['boat','body','cabin']\n",
    "df = df.drop(*cols)\n",
    "#Removing the NAs from the other columns\n",
    "df = df.dropna(subset = ['name','sex','ticket','embarked','home_dest'])\n",
    "#For numerical columns.. fill the na with its median\n",
    "numeric_cols = ['pclass','survived','age','sibsp','parch','fare']\n",
    "from pyspark.ml.feature import Imputer\n",
    "\n",
    "imputer = Imputer(\n",
    "    inputCols=numeric_cols, \n",
    "    outputCols=[c for c in numeric_cols],\n",
    "    strategy = 'median'\n",
    ")\n",
    "df_new = imputer.fit(df).transform(df)"
   ]
  },
  {
   "cell_type": "code",
   "execution_count": 7,
   "metadata": {},
   "outputs": [
    {
     "name": "stdout",
     "output_type": "stream",
     "text": [
      "Number of Rows = 744\n",
      "Number of Columns = 11\n"
     ]
    }
   ],
   "source": [
    "size_shape(df_new)"
   ]
  },
  {
   "cell_type": "code",
   "execution_count": 8,
   "metadata": {},
   "outputs": [
    {
     "name": "stdout",
     "output_type": "stream",
     "text": [
      "+------+--------+----+---+---+-----+-----+------+----+--------+---------+\n",
      "|pclass|survived|name|sex|age|sibsp|parch|ticket|fare|embarked|home_dest|\n",
      "+------+--------+----+---+---+-----+-----+------+----+--------+---------+\n",
      "|     0|       0|   0|  0|  0|    0|    0|     0|   0|       0|        0|\n",
      "+------+--------+----+---+---+-----+-----+------+----+--------+---------+\n",
      "\n"
     ]
    }
   ],
   "source": [
    "df_new.select([fn.count(fn.when(fn.isnan(c)|fn.isnull(c),c)).alias(c) for c in df_new.columns]).show()"
   ]
  },
  {
   "cell_type": "code",
   "execution_count": 9,
   "metadata": {},
   "outputs": [],
   "source": [
    "#Since I am using a small dataset, I am converting into pandas for visualisations. However it woud'nt be the case for large datasets with TBs of data.\n",
    "pandas_df = df_new.toPandas()"
   ]
  },
  {
   "cell_type": "code",
   "execution_count": 10,
   "metadata": {},
   "outputs": [
    {
     "data": {
      "image/png": "[encoded data removed]",
      "text/plain": [
       "<Figure size 504x504 with 1 Axes>"
      ]
     },
     "metadata": {
      "needs_background": "light"
     },
     "output_type": "display_data"
    }
   ],
   "source": [
    "#Now that it is cleaned, Let us understand the dataset.#Let us understand the Age distribution\n",
    "\n",
    "import matplotlib.pyplot as plt\n",
    "\n",
    "\n",
    "plt.figure(figsize=(7,7))\n",
    "#Use this line to set the graph style\n",
    "plt.style.use('seaborn-ticks')\n",
    "#This displays the set of available styles\n",
    "# print(plt.style.available)\n",
    "plt.ylabel('Frequency')\n",
    "plt.xlabel('Age')\n",
    "plt.title(\"Histogram\")\n",
    "#Density stands for if you want to represent the proportions as a percentage or as a frequency. \n",
    "#The Label stands for the legend\n",
    "# the edge color is the border color\n",
    "# The color stands for the color of the bars\n",
    "# The alpha stands for how intense you want the color 'blue'\n",
    "# The bins for number of bins you want to set for the data\n",
    "plt.hist(pandas_df['age'], density=False, bins=8,edgecolor = 'black',color = 'blue',alpha = 0.5)\n",
    "\n",
    "\n",
    "\n",
    "\n",
    "#If your graph has a legend, use this to modify the location\n",
    "# plt.legend(loc=\"upper left\")\n",
    "\n",
    "#Using this statement will only show the graphs and not other parameters and the graph objects\n",
    "plt.show()\n",
    " "
   ]
  },
  {
   "cell_type": "code",
   "execution_count": 11,
   "metadata": {},
   "outputs": [],
   "source": [
    "#Let us see the Age vs Survived\n",
    "# Creating a new variable - with binning the Age column\n",
    "import pandas as pd\n",
    "age_bins = ['0-9', '10-19', '20-29', '30-39', '40-49', '50-59', '60-69', '70-79']\n",
    "pandas_df['age_group'] = pd.cut(pandas_df.age, range(0, 81, 10), right=False, labels=age_bins)\n",
    "age_survived = pd.crosstab(pandas_df['age_group'],pandas_df['survived'])\n",
    "age_survived.columns = ['Not_survived','Survived']"
   ]
  },
  {
   "cell_type": "code",
   "execution_count": 12,
   "metadata": {},
   "outputs": [
    {
     "data": {
      "text/html": [
       "<div>\n",
       "<style scoped>\n",
       "    .dataframe tbody tr th:only-of-type {\n",
       "        vertical-align: middle;\n",
       "    }\n",
       "\n",
       "    .dataframe tbody tr th {\n",
       "        vertical-align: top;\n",
       "    }\n",
       "\n",
       "    .dataframe thead th {\n",
       "        text-align: right;\n",
       "    }\n",
       "</style>\n",
       "<table border=\"1\" class=\"dataframe\">\n",
       "  <thead>\n",
       "    <tr style=\"text-align: right;\">\n",
       "      <th></th>\n",
       "      <th>Not_survived</th>\n",
       "      <th>Survived</th>\n",
       "    </tr>\n",
       "    <tr>\n",
       "      <th>age_group</th>\n",
       "      <th></th>\n",
       "      <th></th>\n",
       "    </tr>\n",
       "  </thead>\n",
       "  <tbody>\n",
       "    <tr>\n",
       "      <th>0-9</th>\n",
       "      <td>13</td>\n",
       "      <td>37</td>\n",
       "    </tr>\n",
       "    <tr>\n",
       "      <th>10-19</th>\n",
       "      <td>45</td>\n",
       "      <td>42</td>\n",
       "    </tr>\n",
       "    <tr>\n",
       "      <th>20-29</th>\n",
       "      <td>111</td>\n",
       "      <td>81</td>\n",
       "    </tr>\n",
       "    <tr>\n",
       "      <th>30-39</th>\n",
       "      <td>117</td>\n",
       "      <td>99</td>\n",
       "    </tr>\n",
       "    <tr>\n",
       "      <th>40-49</th>\n",
       "      <td>57</td>\n",
       "      <td>46</td>\n",
       "    </tr>\n",
       "    <tr>\n",
       "      <th>50-59</th>\n",
       "      <td>33</td>\n",
       "      <td>31</td>\n",
       "    </tr>\n",
       "    <tr>\n",
       "      <th>60-69</th>\n",
       "      <td>18</td>\n",
       "      <td>8</td>\n",
       "    </tr>\n",
       "    <tr>\n",
       "      <th>70-79</th>\n",
       "      <td>4</td>\n",
       "      <td>1</td>\n",
       "    </tr>\n",
       "  </tbody>\n",
       "</table>\n",
       "</div>"
      ],
      "text/plain": [
       "           Not_survived  Survived\n",
       "age_group                        \n",
       "0-9                  13        37\n",
       "10-19                45        42\n",
       "20-29               111        81\n",
       "30-39               117        99\n",
       "40-49                57        46\n",
       "50-59                33        31\n",
       "60-69                18         8\n",
       "70-79                 4         1"
      ]
     },
     "execution_count": 12,
     "metadata": {},
     "output_type": "execute_result"
    }
   ],
   "source": [
    "\n",
    "age_survived"
   ]
  },
  {
   "cell_type": "code",
   "execution_count": 13,
   "metadata": {},
   "outputs": [
    {
     "data": {
      "image/png": "[encoded data removed]",
      "text/plain": [
       "<Figure size 504x288 with 1 Axes>"
      ]
     },
     "metadata": {},
     "output_type": "display_data"
    }
   ],
   "source": [
    "# Lets graph that\n",
    "# 1- Bar Graphs- A bivariate graph, to compare 2 categories of variables, like the age of students in a class or even a histogram with discrete count(where u set the height)\n",
    "\n",
    "import numpy as np\n",
    "#Use this to increase size of graph ( width,height)\n",
    "plt.figure(figsize=(7,4))\n",
    "#Use this line to set the graph style\n",
    "plt.style.use('seaborn-ticks')\n",
    "#This displays the set of available styles\n",
    "# print(plt.style.available)\n",
    "plt.title(\"Survived vs Age\") #To assign a title to the graph\n",
    "plt.xlabel(\"Age Group\") #To assign a label to x axis\n",
    "plt.ylabel(\"Frequency\") #To assign a label to y axis\n",
    "\n",
    "index = np.arange(8)\n",
    "x = list(age_survived.index)\n",
    "y1 = age_survived.Not_survived\n",
    "y2 = age_survived.Survived\n",
    "\n",
    "survived_plt_position = np.array(range(8))\n",
    "notsurvived_plt_position = np.array(range(8))+.2\n",
    "tick_spacing = np.array(range(8))+0.1\n",
    "width = 0.2\n",
    "bar1 = plt.bar(survived_plt_position, y1 ,width = width,color = 'red',alpha = .4,edgecolor = 'black',label = 'not survived') #To map x and y axis on the graph\n",
    "bar2 = plt.bar(notsurvived_plt_position, y2 ,width = width,color = 'blue',alpha = .4,edgecolor = 'black',label = 'survived')\n",
    "#If you want to display the labels of the bar graphs\n",
    "for bar in bar1:\n",
    "    yval = bar.get_height()\n",
    "    #Displaying the text, va - vertical alignment & ha - horizontal alignment\n",
    "    plt.text(bar.get_x() + bar.get_width()/2.0, yval, int(yval), va='bottom',ha = 'center') \n",
    "for bar in bar2:\n",
    "    yval = bar.get_height()\n",
    "    #Displaying the text, va - vertical alignment & ha - horizontal alignment\n",
    "    plt.text(bar.get_x() + bar.get_width()/2.0, yval, int(yval), va='bottom',ha = 'center') \n",
    "\n",
    "plt.xticks(tick_spacing,  list(age_survived.index))\n",
    "plt.legend()  \n",
    "plt.show() #To display the graph\n",
    "\n",
    "#So between the age group of 20 to 40 is where there are a most number of poeple who died"
   ]
  },
  {
   "cell_type": "code",
   "execution_count": 14,
   "metadata": {},
   "outputs": [
    {
     "data": {
      "text/html": [
       "<div>\n",
       "<style scoped>\n",
       "    .dataframe tbody tr th:only-of-type {\n",
       "        vertical-align: middle;\n",
       "    }\n",
       "\n",
       "    .dataframe tbody tr th {\n",
       "        vertical-align: top;\n",
       "    }\n",
       "\n",
       "    .dataframe thead th {\n",
       "        text-align: right;\n",
       "    }\n",
       "</style>\n",
       "<table border=\"1\" class=\"dataframe\">\n",
       "  <thead>\n",
       "    <tr style=\"text-align: right;\">\n",
       "      <th></th>\n",
       "      <th>pclass</th>\n",
       "      <th>survived</th>\n",
       "      <th>name</th>\n",
       "      <th>sex</th>\n",
       "      <th>age</th>\n",
       "      <th>sibsp</th>\n",
       "      <th>parch</th>\n",
       "      <th>ticket</th>\n",
       "      <th>fare</th>\n",
       "      <th>embarked</th>\n",
       "      <th>home_dest</th>\n",
       "      <th>age_group</th>\n",
       "    </tr>\n",
       "  </thead>\n",
       "  <tbody>\n",
       "    <tr>\n",
       "      <th>0</th>\n",
       "      <td>1</td>\n",
       "      <td>1</td>\n",
       "      <td>Allen, Miss. Elisabeth Walton</td>\n",
       "      <td>female</td>\n",
       "      <td>29.0000</td>\n",
       "      <td>0</td>\n",
       "      <td>0</td>\n",
       "      <td>24160</td>\n",
       "      <td>211.3375</td>\n",
       "      <td>S</td>\n",
       "      <td>St Louis, MO</td>\n",
       "      <td>20-29</td>\n",
       "    </tr>\n",
       "    <tr>\n",
       "      <th>1</th>\n",
       "      <td>1</td>\n",
       "      <td>1</td>\n",
       "      <td>Allison, Master. Hudson Trevor</td>\n",
       "      <td>male</td>\n",
       "      <td>0.9167</td>\n",
       "      <td>1</td>\n",
       "      <td>2</td>\n",
       "      <td>113781</td>\n",
       "      <td>151.5500</td>\n",
       "      <td>S</td>\n",
       "      <td>Montreal, PQ / Chesterville, ON</td>\n",
       "      <td>0-9</td>\n",
       "    </tr>\n",
       "    <tr>\n",
       "      <th>2</th>\n",
       "      <td>1</td>\n",
       "      <td>0</td>\n",
       "      <td>Allison, Miss. Helen Loraine</td>\n",
       "      <td>female</td>\n",
       "      <td>2.0000</td>\n",
       "      <td>1</td>\n",
       "      <td>2</td>\n",
       "      <td>113781</td>\n",
       "      <td>151.5500</td>\n",
       "      <td>S</td>\n",
       "      <td>Montreal, PQ / Chesterville, ON</td>\n",
       "      <td>0-9</td>\n",
       "    </tr>\n",
       "    <tr>\n",
       "      <th>3</th>\n",
       "      <td>1</td>\n",
       "      <td>0</td>\n",
       "      <td>Allison, Mr. Hudson Joshua Creighton</td>\n",
       "      <td>male</td>\n",
       "      <td>30.0000</td>\n",
       "      <td>1</td>\n",
       "      <td>2</td>\n",
       "      <td>113781</td>\n",
       "      <td>151.5500</td>\n",
       "      <td>S</td>\n",
       "      <td>Montreal, PQ / Chesterville, ON</td>\n",
       "      <td>30-39</td>\n",
       "    </tr>\n",
       "    <tr>\n",
       "      <th>4</th>\n",
       "      <td>1</td>\n",
       "      <td>0</td>\n",
       "      <td>Allison, Mrs. Hudson J C (Bessie Waldo Daniels)</td>\n",
       "      <td>female</td>\n",
       "      <td>25.0000</td>\n",
       "      <td>1</td>\n",
       "      <td>2</td>\n",
       "      <td>113781</td>\n",
       "      <td>151.5500</td>\n",
       "      <td>S</td>\n",
       "      <td>Montreal, PQ / Chesterville, ON</td>\n",
       "      <td>20-29</td>\n",
       "    </tr>\n",
       "  </tbody>\n",
       "</table>\n",
       "</div>"
      ],
      "text/plain": [
       "   pclass  survived                                             name     sex  \\\n",
       "0       1         1                    Allen, Miss. Elisabeth Walton  female   \n",
       "1       1         1                   Allison, Master. Hudson Trevor    male   \n",
       "2       1         0                     Allison, Miss. Helen Loraine  female   \n",
       "3       1         0             Allison, Mr. Hudson Joshua Creighton    male   \n",
       "4       1         0  Allison, Mrs. Hudson J C (Bessie Waldo Daniels)  female   \n",
       "\n",
       "       age  sibsp  parch  ticket      fare embarked  \\\n",
       "0  29.0000      0      0   24160  211.3375        S   \n",
       "1   0.9167      1      2  113781  151.5500        S   \n",
       "2   2.0000      1      2  113781  151.5500        S   \n",
       "3  30.0000      1      2  113781  151.5500        S   \n",
       "4  25.0000      1      2  113781  151.5500        S   \n",
       "\n",
       "                         home_dest age_group  \n",
       "0                     St Louis, MO     20-29  \n",
       "1  Montreal, PQ / Chesterville, ON       0-9  \n",
       "2  Montreal, PQ / Chesterville, ON       0-9  \n",
       "3  Montreal, PQ / Chesterville, ON     30-39  \n",
       "4  Montreal, PQ / Chesterville, ON     20-29  "
      ]
     },
     "execution_count": 14,
     "metadata": {},
     "output_type": "execute_result"
    }
   ],
   "source": [
    "pandas_df.head(5)"
   ]
  },
  {
   "cell_type": "code",
   "execution_count": 15,
   "metadata": {
    "scrolled": true
   },
   "outputs": [
    {
     "data": {
      "image/png": "[encoded data removed]",
      "text/plain": [
       "<Figure size 504x288 with 1 Axes>"
      ]
     },
     "metadata": {},
     "output_type": "display_data"
    }
   ],
   "source": [
    "#Let us understand the sex vs survived population\n",
    "df_sex = pd.crosstab(pandas_df['sex'],pandas_df['survived'])\n",
    "df_sex.columns = ['Not_survived','Survived']\n",
    "#Use this to increase size of graph ( width,height)\n",
    "plt.figure(figsize=(7,4))\n",
    "#Use this line to set the graph style\n",
    "plt.style.use('seaborn-ticks')\n",
    "#This displays the set of available styles\n",
    "# print(plt.style.available)\n",
    "plt.title(\"Survived vs Gender\") #To assign a title to the graph\n",
    "plt.xlabel(\"Gender\") #To assign a label to x axis\n",
    "plt.ylabel(\"Frequency\") #To assign a label to y axis\n",
    "\n",
    "\n",
    "x = list(df_sex.index)\n",
    "y1 = df_sex.Not_survived\n",
    "y2 = df_sex.Survived\n",
    "\n",
    "survived_plt_position = np.array(range(len(y1)))\n",
    "notsurvived_plt_position = np.array(range(len(y1)))+.2\n",
    "tick_spacing = np.array(range(len(y1)))+.1\n",
    "width = 0.2\n",
    "bar1 = plt.bar(survived_plt_position, y1 ,width = width,color = 'red',alpha = .4,edgecolor = 'black',label = 'not survived') #To map x and y axis on the graph\n",
    "bar2 = plt.bar(notsurvived_plt_position, y2 ,width = width,color = 'blue',alpha = .4,edgecolor = 'black',label = 'survived')\n",
    "#If you want to display the labels of the bar graphs\n",
    "for bar in bar1:\n",
    "    yval = bar.get_height()\n",
    "    #Displaying the text, va - vertical alignment & ha - horizontal alignment\n",
    "    plt.text(bar.get_x() + bar.get_width()/2.0, yval, int(yval), va='bottom',ha = 'center') \n",
    "for bar in bar2:\n",
    "    yval = bar.get_height()\n",
    "    #Displaying the text, va - vertical alignment & ha - horizontal alignment\n",
    "    plt.text(bar.get_x() + bar.get_width()/2.0, yval, int(yval), va='bottom',ha = 'center') \n",
    "\n",
    "plt.xticks(tick_spacing,  x)\n",
    "plt.legend()  \n",
    "plt.show() #To display the graph\n"
   ]
  },
  {
   "cell_type": "code",
   "execution_count": 16,
   "metadata": {},
   "outputs": [
    {
     "data": {
      "text/html": [
       "<div>\n",
       "<style scoped>\n",
       "    .dataframe tbody tr th:only-of-type {\n",
       "        vertical-align: middle;\n",
       "    }\n",
       "\n",
       "    .dataframe tbody tr th {\n",
       "        vertical-align: top;\n",
       "    }\n",
       "\n",
       "    .dataframe thead th {\n",
       "        text-align: right;\n",
       "    }\n",
       "</style>\n",
       "<table border=\"1\" class=\"dataframe\">\n",
       "  <thead>\n",
       "    <tr style=\"text-align: right;\">\n",
       "      <th></th>\n",
       "      <th>Not_Survived</th>\n",
       "      <th>Survived</th>\n",
       "    </tr>\n",
       "  </thead>\n",
       "  <tbody>\n",
       "    <tr>\n",
       "      <th>1st_Class</th>\n",
       "      <td>114</td>\n",
       "      <td>174</td>\n",
       "    </tr>\n",
       "    <tr>\n",
       "      <th>2nd_Class</th>\n",
       "      <td>144</td>\n",
       "      <td>117</td>\n",
       "    </tr>\n",
       "    <tr>\n",
       "      <th>3rd_Class</th>\n",
       "      <td>140</td>\n",
       "      <td>55</td>\n",
       "    </tr>\n",
       "  </tbody>\n",
       "</table>\n",
       "</div>"
      ],
      "text/plain": [
       "           Not_Survived  Survived\n",
       "1st_Class           114       174\n",
       "2nd_Class           144       117\n",
       "3rd_Class           140        55"
      ]
     },
     "execution_count": 16,
     "metadata": {},
     "output_type": "execute_result"
    }
   ],
   "source": [
    "#Let us see how much survived in each Pclass distributed\n",
    "pclass_pd = pd.crosstab(pandas_df.pclass,pandas_df.survived)\n",
    "pclass_pd.index = ['1st_Class','2nd_Class','3rd_Class']\n",
    "pclass_pd.columns = ['Not_Survived','Survived']\n",
    "pclass_pd"
   ]
  },
  {
   "cell_type": "code",
   "execution_count": 17,
   "metadata": {},
   "outputs": [
    {
     "data": {
      "image/png": "[encoded data removed]",
      "text/plain": [
       "<Figure size 432x288 with 2 Axes>"
      ]
     },
     "metadata": {},
     "output_type": "display_data"
    }
   ],
   "source": [
    "#Let us visualize in the form of pie charts\n",
    "fig,(ax1,ax2) = plt.subplots(nrows = 1,ncols = 2)\n",
    "import squarify\n",
    "volume_survived = pclass_pd.Survived\n",
    "volume_not_survived = pclass_pd.Not_Survived\n",
    "labels = list(pclass_pd.index)\n",
    "ax1.pie(volume_survived,autopct = '%1.1f%%',labels = labels )\n",
    "ax1.set_title('Survived By Class')\n",
    "ax2.pie(volume_not_survived,autopct = '%1.1f%%',labels = labels)\n",
    "ax2.set_title('Not survived By Class')\n",
    "plt.suptitle('Pie charts')\n",
    "plt.show()"
   ]
  },
  {
   "cell_type": "code",
   "execution_count": 18,
   "metadata": {},
   "outputs": [
    {
     "data": {
      "image/png": "[encoded data removed]",
      "text/plain": [
       "<Figure size 432x288 with 1 Axes>"
      ]
     },
     "metadata": {},
     "output_type": "display_data"
    }
   ],
   "source": [
    "# Let us understand how gender survived w.r.t age groups\n",
    "survived_male = pandas_df[pandas_df.sex =='male'].groupby('age_group').survived.sum().values\n",
    "survived_female = pandas_df[pandas_df.sex =='female'].groupby('age_group').survived.sum().values\n",
    "index = list(pandas_df[pandas_df.sex =='male'].groupby('age_group').survived.sum().index)\n",
    "fig,ax = plt.subplots()\n",
    "male_pos = np.arange(len(index))-.2\n",
    "female_pos = np.arange(len(index))+.2\n",
    "width = 0.4\n",
    "bar1 = ax.bar(male_pos,survived_male,label = 'Male Survived',width = width)\n",
    "bar2 = ax.bar(female_pos,survived_female,label = 'Female Survived',width =width)\n",
    "tick_spacing = np.arange(len(index))\n",
    "plt.xticks(tick_spacing,index)\n",
    "plt.legend()\n",
    "plt.title(\"Survived vs Age\") #To assign a title to the graph\n",
    "plt.xlabel(\"Age\") #To assign a label to x axis\n",
    "plt.ylabel(\"Count of Survived\") #To assign a label to y axis\n",
    "for bar in bar1:\n",
    "    yval = bar.get_height()\n",
    "    #Displaying the text, va - vertical alignment & ha - horizontal alignment\n",
    "    plt.text(bar.get_x() + bar.get_width()/2.0, yval, int(yval), va='bottom',ha = 'center') \n",
    "for bar in bar2:\n",
    "    yval = bar.get_height()\n",
    "    #Displaying the text, va - vertical alignment & ha - horizontal alignment\n",
    "    plt.text(bar.get_x() + bar.get_width()/2.0, yval, int(yval), va='bottom',ha = 'center') \n",
    "\n",
    "plt.show()"
   ]
  },
  {
   "cell_type": "markdown",
   "metadata": {},
   "source": [
    "## Conclusions from our graph(S)\n",
    "1. Between the age group 20 to 40 is the most causality (In the 1st graph)\n",
    "2. More number of female survived than man\n",
    "3. 1st class survived more than the other classes\n",
    "\n"
   ]
  },
  {
   "cell_type": "code",
   "execution_count": 13,
   "metadata": {},
   "outputs": [
    {
     "name": "stdout",
     "output_type": "stream",
     "text": [
      "+------+--------+--------------------+------+----+-----+-----+--------+------+--------+--------------------+\n",
      "|pclass|survived|                name|   sex| age|sibsp|parch|  ticket|  fare|embarked|           home_dest|\n",
      "+------+--------+--------------------+------+----+-----+-----+--------+------+--------+--------------------+\n",
      "|     1|       0|\"Lindeberg-Lind, ...|  male|42.0|    0|    0|   17475| 26.55|       S|   Stockholm, Sweden|\n",
      "|     1|       0|\"Rosenshine, Mr. ...|  male|46.0|    0|    0|PC 17585|  79.2|       C|        New York, NY|\n",
      "|     1|       0|Allison, Miss. He...|female| 2.0|    1|    2|  113781|151.55|       S|Montreal, PQ / Ch...|\n",
      "|     1|       0|Allison, Mr. Huds...|  male|30.0|    1|    2|  113781|151.55|       S|Montreal, PQ / Ch...|\n",
      "|     1|       0|Allison, Mrs. Hud...|female|25.0|    1|    2|  113781|151.55|       S|Montreal, PQ / Ch...|\n",
      "+------+--------+--------------------+------+----+-----+-----+--------+------+--------+--------------------+\n",
      "only showing top 5 rows\n",
      "\n"
     ]
    }
   ],
   "source": [
    "train,test = df_new.randomSplit([0.8,0.2],0)\n",
    "train.show(5)"
   ]
  },
  {
   "cell_type": "code",
   "execution_count": 11,
   "metadata": {},
   "outputs": [],
   "source": [
    "#Let us try modelling & try to predict the best.we will be trying simple logistic regression,Random Forests and GBT classifier.\n",
    "#With those 3 models, Let us evaluate the parameters and get the best model\n",
    "from pyspark.ml import feature,Pipeline\n",
    "from pyspark.ml import classification\n",
    "numerical = Pipeline(stages = [feature.VectorAssembler(inputCols=['pclass', 'age', 'sibsp', 'parch', 'fare'],outputCol='featuresSS'),\n",
    "                               feature.StandardScaler(inputCol = 'featuresSS',outputCol = 'featuresS')])\n",
    "                               \n",
    "pclass = Pipeline(stages = [feature.StringIndexer(inputCol = 'pclass',outputCol = 'pclass_code'),\n",
    "                            feature.OneHotEncoder(inputCol = 'pclass_code',outputCol = 'pcl')])\n",
    "sex = feature.StringIndexer(inputCol = 'sex',outputCol = 'sex_coded')\n",
    "age = feature.QuantileDiscretizer(numBuckets = 8,inputCol = 'age',outputCol = 'age_bin')\n",
    "fare = feature.QuantileDiscretizer(numBuckets = 8,inputCol = 'fare',outputCol = 'fare_bin')\n",
    "embark = Pipeline(stages = [feature.StringIndexer(inputCol = 'embarked',outputCol = 'embark_code'),\n",
    "                            feature.OneHotEncoder(inputCol = 'embark_code',outputCol = 'embarK')])\n",
    "                        \n",
    "feature_pipe = Pipeline(stages=[numerical,pclass,sex,age,fare,embark,\n",
    "                                feature.VectorAssembler(inputCols = ['featuresSS','pcl','age_bin','fare_bin','embarK','sex_coded'],outputCol = 'features')])\n",
    "                          \n",
    "                                             \n",
    "\n"
   ]
  },
  {
   "cell_type": "code",
   "execution_count": 14,
   "metadata": {},
   "outputs": [],
   "source": [
    "#Let us initialize the 3 models as discussed.\n",
    "from pyspark_pipes import pipe\n",
    "LR = classification.LogisticRegression(labelCol='survived', featuresCol='features')\n",
    "RF = classification.RandomForestClassifier(labelCol = 'survived', featuresCol='features')\n",
    "GBM = classification.GBTClassifier(labelCol = 'survived', featuresCol='features')\n",
    "#Let us use the accuracy,precision,recall as our classification metrics\n",
    "\n",
    "\n",
    "LR_df = Pipeline(stages = [feature_pipe,LR]).fit(train)\n",
    "RF_df = Pipeline(stages = [feature_pipe,RF]).fit(train)\n",
    "GBM_df = Pipeline(stages = [feature_pipe,GBM]).fit(train)\n",
    "\n"
   ]
  },
  {
   "cell_type": "code",
   "execution_count": 18,
   "metadata": {},
   "outputs": [
    {
     "name": "stdout",
     "output_type": "stream",
     "text": [
      "              precision    recall  f1-score   support\n",
      "\n",
      "           0       0.76      0.80      0.78        85\n",
      "           1       0.74      0.70      0.72        69\n",
      "\n",
      "    accuracy                           0.75       154\n",
      "   macro avg       0.75      0.75      0.75       154\n",
      "weighted avg       0.75      0.75      0.75       154\n",
      "\n",
      "              precision    recall  f1-score   support\n",
      "\n",
      "           0       0.79      0.92      0.85        85\n",
      "           1       0.87      0.70      0.77        69\n",
      "\n",
      "    accuracy                           0.82       154\n",
      "   macro avg       0.83      0.81      0.81       154\n",
      "weighted avg       0.83      0.82      0.81       154\n",
      "\n",
      "              precision    recall  f1-score   support\n",
      "\n",
      "           0       0.78      0.87      0.82        85\n",
      "           1       0.81      0.70      0.75        69\n",
      "\n",
      "    accuracy                           0.79       154\n",
      "   macro avg       0.80      0.78      0.79       154\n",
      "weighted avg       0.79      0.79      0.79       154\n",
      "\n"
     ]
    }
   ],
   "source": [
    "from pyspark.ml.evaluation import BinaryClassificationEvaluator\n",
    "from sklearn.metrics import classification_report, confusion_matrix\n",
    "\n",
    "models = [LR_df,RF_df,GBM_df]\n",
    "evaluator = BinaryClassificationEvaluator(labelCol = 'survived',rawPredictionCol = 'rawPrediction')\n",
    "for model in models:\n",
    "    tranformed_test = model.transform(test)\n",
    "    y_true = tranformed_test.select(['survived']).collect()\n",
    "    y_pred = tranformed_test.select(['prediction']).collect()\n",
    "    \n",
    "    print(classification_report(y_true, y_pred))\n",
    "    "
   ]
  },
  {
   "cell_type": "markdown",
   "metadata": {},
   "source": [
    "#Conclusions - Modelwise\n",
    "The precision for the random forest classifier is .87(Best out of all the three), indicating that random forest classifier is the best in predicting positive outcomes(In this case 1 for predicting if a person survived or not).\n",
    "Also out of all the three - f1 score is highest in the random forest, So that is the winner.\n"
   ]
  },
  {
   "cell_type": "markdown",
   "metadata": {},
   "source": [
    "#Further Improvement that can be done to this case study\n",
    "1.Cross validation\n",
    "2.Introduce regularisation params\n",
    "3.More hyper-tune the models.\n",
    "4.Use decision tree to find out the important features that helps in prediction."
   ]
  }
 ],
 "metadata": {
  "kernelspec": {
   "display_name": "Python 3",
   "language": "python",
   "name": "python3"
  },
  "language_info": {
   "codemirror_mode": {
    "name": "ipython",
    "version": 3
   },
   "file_extension": ".py",
   "mimetype": "text/x-python",
   "name": "python",
   "nbconvert_exporter": "python",
   "pygments_lexer": "ipython3",
   "version": "3.7.6"
  }
 },
 "nbformat": 4,
 "nbformat_minor": 4
}
