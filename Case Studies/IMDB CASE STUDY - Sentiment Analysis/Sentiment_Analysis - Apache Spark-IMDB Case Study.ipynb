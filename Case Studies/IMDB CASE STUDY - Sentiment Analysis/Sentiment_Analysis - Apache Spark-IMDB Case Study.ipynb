{
 "cells": [
  {
   "cell_type": "code",
   "execution_count": 125,
   "metadata": {},
   "outputs": [
    {
     "name": "stdout",
     "output_type": "stream",
     "text": [
      "+---------+--------------------+-----+\n",
      "|       id|              review|score|\n",
      "+---------+--------------------+-----+\n",
      "|pos_10006|In this \"critical...|  1.0|\n",
      "|pos_10013|Like one of the p...|  1.0|\n",
      "|pos_10022|Aro Tolbukhin bur...|  1.0|\n",
      "|pos_10033|The movie Titanic...|  1.0|\n",
      "| pos_1003|Another Aussie ma...|  1.0|\n",
      "+---------+--------------------+-----+\n",
      "only showing top 5 rows\n",
      "\n"
     ]
    }
   ],
   "source": [
    "#reading in IMDB sample FIle\n",
    "from pyspark.sql import SparkSession\n",
    "spark = SparkSession.builder.getOrCreate()\n",
    "#Loading the File\n",
    "df = spark.read.parquet('imdb_reviews_preprocessed.parquet')\n",
    "df.show(5)"
   ]
  },
  {
   "cell_type": "code",
   "execution_count": 110,
   "metadata": {},
   "outputs": [],
   "source": [
    "import pyspark.sql.functions as fn\n",
    "from pyspark.ml import feature,Pipeline,classification\n",
    "\n",
    "from pyspark.ml.tuning import ParamGridBuilder,CrossValidator\n",
    "from pyspark.ml.evaluation import BinaryClassificationEvaluator\n",
    "from pyspark.ml.feature import StopWordsRemover\n",
    "#Converts the word/Para column to word list ; Setpattern signifies all special characters removed.\n",
    "token = feature.RegexTokenizer().setInputCol('review').setOutputCol('words').setPattern('\\\\p{L}+').setGaps(False)\n",
    "\n",
    "#Splitting to Train & Test\n",
    "train , test = df.randomSplit([0.7,0.3],0)\n",
    "\n",
    "\n",
    "\n",
    "import requests\n",
    "#Getting stopwords from this link and using it on the tokenized column to remove the stop words\n",
    "link = 'http://ir.dcs.gla.ac.uk/resources/linguistic_utils/stop_words'\n",
    "stopwords = requests.get(link).text.split()\n",
    "stopwordsremover = feature.StopWordsRemover().setStopWords(stopwords).setCaseSensitive(False).setInputCol('words').setOutputCol('Filtered')\n",
    "\n",
    "#Gives the term frequency of the words in the word column\n",
    "count_vector = feature.CountVectorizer().setInputCol('Filtered').setOutputCol('tf')\n",
    "\n",
    "#Gives the idf score of those words in the tf column(Calculated as per formula) - so most frequently used words gets lesser weights\n",
    "tfidf = feature.IDF().setInputCol('tf').setOutputCol('tfidf')\n",
    "\n",
    "#initializing the Logistic Regression model with elastic and lambda param\n",
    "lr = classification.LogisticRegression().setLabelCol('score').setRawPredictionCol('Predicted').setElasticNetParam(.3).setRegParam(.02).setFeaturesCol('tfidf')\n",
    "\n",
    "evaluator = BinaryClassificationEvaluator().setLabelCol('score').setRawPredictionCol(lr.getRawPredictionCol())\n",
    "\n",
    "# param_grid = ParamGridBuilder().addGrid(lr.regParam,[0.1,.01]).addGrid(lr.elasticNetParam,[0,.2,.5]).build()\n",
    "\n",
    "model_pipe = Pipeline(stages = [token,stopwordsremover,count_vector,tfidf,lr])\n",
    "\n",
    "#Perform CV if required\n",
    "# cv = CrossValidator(estimator = model_pipe,\n",
    "#                    estimatorParamMaps = param_grid,\n",
    "#                    numFolds = 2,\n",
    "#                    evaluator = evaluator)\n",
    "\n",
    "tranformed = model_pipe.fit(train)\n",
    "# cv_tranformed = cv.fit(train)\n",
    "tranformed_test = tranformed.transform(test)"
   ]
  },
  {
   "cell_type": "code",
   "execution_count": 135,
   "metadata": {},
   "outputs": [
    {
     "data": {
      "text/html": [
       "<div>\n",
       "<style scoped>\n",
       "    .dataframe tbody tr th:only-of-type {\n",
       "        vertical-align: middle;\n",
       "    }\n",
       "\n",
       "    .dataframe tbody tr th {\n",
       "        vertical-align: top;\n",
       "    }\n",
       "\n",
       "    .dataframe thead th {\n",
       "        text-align: right;\n",
       "    }\n",
       "</style>\n",
       "<table border=\"1\" class=\"dataframe\">\n",
       "  <thead>\n",
       "    <tr style=\"text-align: right;\">\n",
       "      <th></th>\n",
       "      <th>word</th>\n",
       "      <th>weight</th>\n",
       "    </tr>\n",
       "  </thead>\n",
       "  <tbody>\n",
       "    <tr>\n",
       "      <th>102</th>\n",
       "      <td>worst</td>\n",
       "      <td>-0.397483</td>\n",
       "    </tr>\n",
       "    <tr>\n",
       "      <th>278</th>\n",
       "      <td>waste</td>\n",
       "      <td>-0.358427</td>\n",
       "    </tr>\n",
       "    <tr>\n",
       "      <th>211</th>\n",
       "      <td>awful</td>\n",
       "      <td>-0.269664</td>\n",
       "    </tr>\n",
       "    <tr>\n",
       "      <th>11</th>\n",
       "      <td>bad</td>\n",
       "      <td>-0.235873</td>\n",
       "    </tr>\n",
       "    <tr>\n",
       "      <th>617</th>\n",
       "      <td>poorly</td>\n",
       "      <td>-0.209678</td>\n",
       "    </tr>\n",
       "    <tr>\n",
       "      <th>181</th>\n",
       "      <td>boring</td>\n",
       "      <td>-0.207001</td>\n",
       "    </tr>\n",
       "    <tr>\n",
       "      <th>1049</th>\n",
       "      <td>disappointment</td>\n",
       "      <td>-0.204845</td>\n",
       "    </tr>\n",
       "    <tr>\n",
       "      <th>269</th>\n",
       "      <td>worse</td>\n",
       "      <td>-0.187626</td>\n",
       "    </tr>\n",
       "    <tr>\n",
       "      <th>48842</th>\n",
       "      <td>prologic</td>\n",
       "      <td>-0.185930</td>\n",
       "    </tr>\n",
       "    <tr>\n",
       "      <th>42113</th>\n",
       "      <td>flesheaters</td>\n",
       "      <td>-0.185930</td>\n",
       "    </tr>\n",
       "    <tr>\n",
       "      <th>225</th>\n",
       "      <td>terrible</td>\n",
       "      <td>-0.170643</td>\n",
       "    </tr>\n",
       "    <tr>\n",
       "      <th>737</th>\n",
       "      <td>fails</td>\n",
       "      <td>-0.169648</td>\n",
       "    </tr>\n",
       "    <tr>\n",
       "      <th>523</th>\n",
       "      <td>dull</td>\n",
       "      <td>-0.168982</td>\n",
       "    </tr>\n",
       "    <tr>\n",
       "      <th>598</th>\n",
       "      <td>avoid</td>\n",
       "      <td>-0.167460</td>\n",
       "    </tr>\n",
       "    <tr>\n",
       "      <th>905</th>\n",
       "      <td>pointless</td>\n",
       "      <td>-0.167264</td>\n",
       "    </tr>\n",
       "  </tbody>\n",
       "</table>\n",
       "</div>"
      ],
      "text/plain": [
       "                 word    weight\n",
       "102             worst -0.397483\n",
       "278             waste -0.358427\n",
       "211             awful -0.269664\n",
       "11                bad -0.235873\n",
       "617            poorly -0.209678\n",
       "181            boring -0.207001\n",
       "1049   disappointment -0.204845\n",
       "269             worse -0.187626\n",
       "48842        prologic -0.185930\n",
       "42113     flesheaters -0.185930\n",
       "225          terrible -0.170643\n",
       "737             fails -0.169648\n",
       "523              dull -0.168982\n",
       "598             avoid -0.167460\n",
       "905         pointless -0.167264"
      ]
     },
     "execution_count": 135,
     "metadata": {},
     "output_type": "execute_result"
    }
   ],
   "source": [
    "import pandas as pd\n",
    "from pyspark.sql.types import *\n",
    "\n",
    "en_weights = tranformed.stages[-1].coefficients.toArray()\n",
    "en_coeffs_df = pd.DataFrame({'word': tranformed.stages[2].vocabulary, 'weight': en_weights})\n",
    "#Printing the words and their contribution to the prediction of sentiment.\n",
    "#As expected, words like worst,waste contribute heavily to the negative review.\n",
    "en_coeffs_df.sort_values('weight').head(15)"
   ]
  },
  {
   "cell_type": "code",
   "execution_count": 138,
   "metadata": {},
   "outputs": [
    {
     "name": "stdout",
     "output_type": "stream",
     "text": [
      "THE AUC score is 0.94\n"
     ]
    },
    {
     "data": {
      "image/png": "[encoded data removed]",
      "text/plain": [
       "<Figure size 432x288 with 1 Axes>"
      ]
     },
     "metadata": {
      "needs_background": "light"
     },
     "output_type": "display_data"
    }
   ],
   "source": [
    "import matplotlib.pyplot as plt\n",
    "import numpy as np\n",
    "from sklearn.metrics import roc_curve\n",
    "#The below prints the AUC score of the Logistic regression model\n",
    "print(\"THE AUC score is %.2f\"%evaluator.evaluate(tranformed.transform(test)))\n",
    "#Printing the ROCK' curve\n",
    "ROCK = tranformed.stages[-1].summary.roc.toPandas()\n",
    "plt.scatter(ROCK['FPR'],ROCK['TPR'])\n",
    "plt.ylabel('True Positive Rate')\n",
    "plt.xlabel('False Positive Rate')\n",
    "plt.title('ROC Curve')\n",
    "plt.show()\n",
    "display()\n",
    "\n",
    "#Since its leaning towards the left more, This model is good.(Also the AUC score looks solid enough)"
   ]
  },
  {
   "cell_type": "code",
   "execution_count": 134,
   "metadata": {},
   "outputs": [
    {
     "name": "stdout",
     "output_type": "stream",
     "text": [
      "              precision    recall  f1-score   support\n",
      "\n",
      "         0.0       0.89      0.84      0.87      3792\n",
      "         1.0       0.85      0.90      0.87      3730\n",
      "\n",
      "    accuracy                           0.87      7522\n",
      "   macro avg       0.87      0.87      0.87      7522\n",
      "weighted avg       0.87      0.87      0.87      7522\n",
      "\n",
      "DenseMatrix([[3190.,  602.],\n",
      "             [ 384., 3346.]])\n",
      "Accuracy : 0.87\n",
      "TPR = 0.89\n"
     ]
    }
   ],
   "source": [
    "#For Confu'sion' - 'sea yon' matrix\n",
    "from pyspark.mllib.evaluation import MulticlassMetrics\n",
    "from pyspark.sql.types import *\n",
    "# https://stackoverflow.com/questions/58404845/confusion-matrix-to-get-precsion-recall-f1score-Thanks..!\n",
    "# ConfusionMatrix() works only with RDDs, so we will have to convert our DataFrame of (prediction, label) into a RDD.\n",
    "y_true = tranformed_test.select(['score']).collect()\n",
    "y_pred = tranformed_test.select(['prediction']).collect()\n",
    "\n",
    "from sklearn.metrics import classification_report, confusion_matrix\n",
    "print(classification_report(y_true, y_pred))\n",
    "\n",
    "pred_label = tranformed_test.select(['prediction','score'])\n",
    "metrics = MulticlassMetrics(pred_label.rdd.map(lambda x: (x[0],x[1])))\n",
    "\n",
    "print(metrics.confusionMatrix())\n",
    "\n",
    "# From this confusion matrix ; \n",
    "tp,fn,fp,tn = metrics.confusionMatrix().values\n",
    "print('Accuracy : %.2f'%((tp+tn)/(tp+tn+fp+fn)))\n",
    "print('TPR = %.2f'%(tp/(tp+fn)))"
   ]
  },
  {
   "cell_type": "code",
   "execution_count": 117,
   "metadata": {},
   "outputs": [
    {
     "name": "stdout",
     "output_type": "stream",
     "text": [
      "TPR = 0.89\n",
      "FPR = 0.85\n"
     ]
    }
   ],
   "source": [
    "#The TPR signifying that this model correctly classifies the positive outcomes with 89%accuracy\n",
    "print('TPR = %.2f'%(tp/(tp+fn)))\n",
    "#The FPR signifying that this model correctly classifies the negative outcomes with 85%accuracy\n",
    "print('FPR = %.2f'%(tn/(tn+fp)))"
   ]
  }
 ],
 "metadata": {
  "kernelspec": {
   "display_name": "Python 3",
   "language": "python",
   "name": "python3"
  },
  "language_info": {
   "codemirror_mode": {
    "name": "ipython",
    "version": 3
   },
   "file_extension": ".py",
   "mimetype": "text/x-python",
   "name": "python",
   "nbconvert_exporter": "python",
   "pygments_lexer": "ipython3",
   "version": "3.7.6"
  }
 },
 "nbformat": 4,
 "nbformat_minor": 4
}